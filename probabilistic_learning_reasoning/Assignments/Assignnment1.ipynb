{
  "nbformat": 4,
  "nbformat_minor": 0,
  "metadata": {
    "colab": {
      "provenance": []
    },
    "kernelspec": {
      "name": "python3",
      "display_name": "Python 3"
    },
    "language_info": {
      "name": "python"
    }
  },
  "cells": [
    {
      "cell_type": "markdown",
      "source": [
        "Last Edited: 2024-01-25\n",
        "\n",
        "Changes:\n",
        "* (01-25) Added code to remove 7 datapoints that cause log(0) to the `fashion_mnist()` function\n",
        "* (01-25) Fixed some typos\n",
        "\n",
        "\n",
        "\n",
        "------"
      ],
      "metadata": {
        "id": "fBeKYERsR9b6"
      }
    },
    {
      "cell_type": "markdown",
      "source": [
        "- **Deadline**: Feb 5, at 23:59PM.\n",
        "- **Submission**: You need to submit your solutions through Crowdmark, including all your derivations, plots, and your code. You can produce the files however you like (e.g. LATEX, Microsoft Word, etc), as long as it is readable. Points will be deducted if we have a hard time reading your solutions or understanding the structure of your code.\n",
        "- **Collaboration policy**: After attempting the problems on an individual basis, you may discuss and work together on the assignment with up to two classmates. However, **you must write your own code and write up your own solutions individually and explicitly name any collaborators** at the top of the homework."
      ],
      "metadata": {
        "id": "lDq7tOQ6ZdPC"
      }
    },
    {
      "cell_type": "markdown",
      "source": [
        "# Q1 - Decision Theory"
      ],
      "metadata": {
        "id": "QI9CD9BCoh5a"
      }
    },
    {
      "cell_type": "markdown",
      "source": [
        "One successful use of probabilistic models is for building spam filters, which take in an email and take different actions depending on the likelihood that it’s spam.\n",
        "\n",
        "Imagine you are running an email service. You have a well-calibrated spam classifier that tells you the probability that a particular email is spam: $p(spam|email)$. You have four options for what to do with each email: You can list it as important email, show it to the user, put it in the spam folder, or delete it entirely.\n",
        "\n",
        "Depending on whether or not the email really is spam, the user will suffer a different amount  of wasted time for the different actions we can take, $L$(action, spam):\n",
        "\n",
        "Action   | Spam        | Not spam\n",
        "-------- | ----------- | -----------\n",
        "Important| 15         | 0\n",
        "Show     | 5          | 1\n",
        "Folder   | 1           | 40\n",
        "Delete   | 0           | 150"
      ],
      "metadata": {
        "id": "lqGwGkzkokTV"
      }
    },
    {
      "cell_type": "markdown",
      "source": [],
      "metadata": {
        "id": "MrQFeFh6eq1f"
      }
    },
    {
      "cell_type": "markdown",
      "source": [
        "## Q1.1\n",
        "[3pts] Plot the expected wasted user time for each of the three possible actions, as a function of the probability of spam: $p(spam|email)$."
      ],
      "metadata": {
        "id": "2V_k3L8ByUs9"
      }
    },
    {
      "cell_type": "code",
      "source": [
        "import numpy as np\n",
        "import matplotlib.pyplot as plt"
      ],
      "metadata": {
        "id": "rAwFc8cVSXtW"
      },
      "execution_count": null,
      "outputs": []
    },
    {
      "cell_type": "code",
      "source": [
        "losses = [[15, 0],[5, 1], [1, 40],[0, 150]]\n",
        "actions_names = ['Important','Show', 'Folder', 'Delete']\n",
        "num_actions = len(losses)\n",
        "def expected_loss_of_action(prob_spam, action):\n",
        "    #TODO: Return expected loss over a Bernoulli random variable\n",
        "    # with mean prob_spam.\n",
        "    # Losses are given by the table above.\n",
        "    total_expected_loss = []\n",
        "    for prob in prob_spam:\n",
        "      expected_loss = prob * losses[action][0] + (1 - prob) * (losses[action][1])\n",
        "      total_expected_loss.append(expected_loss)\n",
        "    \n",
        "    return total_expected_loss\n",
        "    \n",
        "prob_range = np.linspace(0., 1., num=600) \n",
        "\n",
        "# Make plot\n",
        "for action in range(num_actions):\n",
        "    plt.plot(prob_range, expected_loss_of_action(prob_range, action), label=actions_names[action])\n",
        "\n",
        "plt.xlabel('$p(spam|email)$')\n",
        "plt.ylabel('Expected loss of action')\n",
        "plt.legend()\n"
      ],
      "metadata": {
        "id": "CwqF1QStyUI0",
        "outputId": "297e3a0e-ae4d-4be6-9a13-7f3c9396137f",
        "colab": {
          "base_uri": "https://localhost:8080/",
          "height": 300
        }
      },
      "execution_count": null,
      "outputs": [
        {
          "output_type": "execute_result",
          "data": {
            "text/plain": [
              "<matplotlib.legend.Legend at 0x7f11f0d6e730>"
            ]
          },
          "metadata": {},
          "execution_count": 38
        },
        {
          "output_type": "display_data",
          "data": {
            "text/plain": [
              "<Figure size 432x288 with 1 Axes>"
            ],
            "image/png": "[encoded data removed]"
          },
          "metadata": {
            "needs_background": "light"
          }
        }
      ]
    },
    {
      "cell_type": "markdown",
      "source": [
        "## Q1.2\n",
        "[2pts] Write a function that computes the optimal action given the probability of spam."
      ],
      "metadata": {
        "id": "oqtMD5X4NZ1d"
      }
    },
    {
      "cell_type": "code",
      "source": [
        "def optimal_action(prob_spam):\n",
        "    #TODO: return best action given the probability of spam. \n",
        "    #Hint: np.argmin might be helpful.\n",
        "    \n",
        "    # iterate over the prob_spam and find the action that gives least expected error\n",
        "    optimal_actions = []\n",
        "    for prob in prob_spam:\n",
        "      action_losses = []\n",
        "      for action in range(num_actions):\n",
        "        expected_loss_action = prob * losses[action][0] + (1 - prob) * (losses[action][1])\n",
        "        action_losses.append(expected_loss_action)\n",
        "      optimal_actions.append(np.argmin(action_losses))\n",
        "\n",
        "    return optimal_actions"
      ],
      "metadata": {
        "id": "7gLS3sO1NiPv"
      },
      "execution_count": null,
      "outputs": []
    },
    {
      "cell_type": "markdown",
      "source": [
        "## Q1.3\n",
        "[4pts] Plot the expected loss of the optimal action as a function of the probability of spam.\n",
        "\n",
        "\n",
        "Color the line according to the optimal action for that probability of spam.\n"
      ],
      "metadata": {
        "id": "TaIhABveNinu"
      }
    },
    {
      "cell_type": "code",
      "source": [
        "prob_range = np.linspace(0., 1., num=600) \n",
        "optimal_losses = {action:[] for action in range(num_actions)}\n",
        "optimal_actions = []\n",
        "# TODO: Compute the optimal action and its expected loss for\n",
        "# probability of spam given by p.\n",
        "optimal_actions = optimal_action(prob_range)\n",
        "prob_ranges = {action:[] for action in range(num_actions)}\n",
        "for i in range(len(prob_range)):\n",
        "  optimal_losses[optimal_actions[i]].append(prob_range[i] * losses[optimal_actions[i]][0] + (1 - prob_range[i]) * (losses[optimal_actions[i]][1]))\n",
        "  prob_ranges[optimal_actions[i]].append(prob_range[i])\n",
        "\n",
        "for action in range(num_actions):\n",
        "    plt.plot(prob_ranges[action], optimal_losses[action], label=actions_names[action])\n",
        "plt.xlabel('p(spam|email)')\n",
        "plt.ylabel('Expected loss of optimal action')\n",
        "plt.legend()"
      ],
      "metadata": {
        "id": "Gdk3OQLONo-P",
        "colab": {
          "base_uri": "https://localhost:8080/",
          "height": 315
        },
        "outputId": "a15a465b-8e71-4cec-ce52-d4a0576494ae"
      },
      "execution_count": null,
      "outputs": [
        {
          "output_type": "stream",
          "name": "stdout",
          "text": [
            "[0.991652754590985, 0.993322203672788, 0.994991652754591, 0.996661101836394, 0.998330550918197, 1.0]\n"
          ]
        },
        {
          "output_type": "execute_result",
          "data": {
            "text/plain": [
              "<matplotlib.legend.Legend at 0x7f11f065e820>"
            ]
          },
          "metadata": {},
          "execution_count": 59
        },
        {
          "output_type": "display_data",
          "data": {
            "text/plain": [
              "<Figure size 432x288 with 1 Axes>"
            ],
            "image/png": "[encoded data removed]"
          },
          "metadata": {
            "needs_background": "light"
          }
        }
      ]
    },
    {
      "cell_type": "markdown",
      "source": [
        "## Q1.4\n",
        "[4pts] For exactly which range of the probabilities of an email being spam should we delete an email?\n",
        "\n",
        "Find the exact answer by hand using algebra."
      ],
      "metadata": {
        "id": "M0eRJyGdNpXA"
      }
    },
    {
      "cell_type": "markdown",
      "source": [
        "[Type up your derivation here]\n",
        "\n",
        "Your answer:\n",
        "Approach: Find the intersection of lines in plot 1.1 and return the range for which the expected loss to delete is the lowest.\n",
        "\\begin{align*}\n",
        "important&: y = 15x \\\\\n",
        "show&: y = 4x + 1 \\\\\n",
        "folder&: y = -39x + 40 \\\\\n",
        "delete&: y = -150x + 150 \\\\\n",
        "\\end{align*}\n",
        "The intersection of lines with respect to the delete line are:\n",
        "\\begin{align*}\n",
        "important&: x=0.9090, y=13.6363 \\\\\n",
        "show&: x=0.9675, y=4.87 \\\\\n",
        "folder&: x=0.9909, y=1.35135 \n",
        "\\end{align*}\n",
        "\n",
        "As we can see, the expected loss to delete is the lowest at the intersection of the lines delete and folder. The range of probabilities of an email being spam for which we should delete is $0.9909-1.0$\n",
        "\n"
      ],
      "metadata": {
        "id": "fr_ghgvoUz5p"
      }
    },
    {
      "cell_type": "markdown",
      "source": [
        "# Q2 - Naïve Bayes, A Generative Model"
      ],
      "metadata": {
        "id": "H1kRdfM6ol0R"
      }
    },
    {
      "cell_type": "markdown",
      "source": [
        "![](https://github.com/zalandoresearch/fashion-mnist/blob/master/doc/img/fashion-mnist-sprite.png?raw=true)\n",
        "\n",
        "\n",
        "In this question, we'll fit a Naïve Bayes model to the fashion MNIST dataset, and use this model for making predictions and generating new images from the same distribution. Fashion MNIST is a dataset of 28x28 black-and-white images of items of clothing. We represent each image by a vector $x^{(i)} \\in \\{0,1\\}^{784}$, where 0 and 1 represent white and black pixels respectively. Each class label $c^{(i)}$ is a different item of clothing, which in the code is represented by a 10-dimensional one-hot vector.\n",
        "\n",
        "The Naïve Bayes model parameterized by $\\theta$ and $\\pi$ defines the following joint probability of $x$ and $c$,\n",
        "$$p(x,c|\\theta,\\pi) = p(c|\\pi)p(x|c,\\theta) = p(c|\\pi)\\prod_{j=1}^{784}p(x_j|c,\\theta),$$\n",
        "where $x_j | c,\\theta \\sim \\operatorname{Bernoulli}(\\theta_{jc})$ or in other words $p(x_j | c,\\theta) = \\theta_{jc}^{x_j}(1-\\theta_{jc})^{1-x_j}$, and $c|\\pi$ follows a simple categorical distribution, i.e. $p(c|\\pi) = \\pi_c$.\n",
        "\n",
        "We begin by learning the parameters $\\theta$ and $\\pi$. The following code will download and prepare the training and test sets."
      ],
      "metadata": {
        "id": "Je6H8FAKpqmF"
      }
    },
    {
      "cell_type": "code",
      "source": [
        "import numpy as np\n",
        "import os\n",
        "import gzip\n",
        "import struct\n",
        "import array\n",
        "import matplotlib.pyplot as plt\n",
        "import matplotlib.image\n",
        "from urllib.request import urlretrieve\n",
        "\n",
        "def download(url, filename):\n",
        "    if not os.path.exists('data'):\n",
        "        os.makedirs('data')\n",
        "    out_file = os.path.join('data', filename)\n",
        "    if not os.path.isfile(out_file):\n",
        "        urlretrieve(url, out_file)\n",
        "\n",
        "\n",
        "def fashion_mnist():\n",
        "    base_url = 'http://fashion-mnist.s3-website.eu-central-1.amazonaws.com/'\n",
        "\n",
        "    def parse_labels(filename):\n",
        "        with gzip.open(filename, 'rb') as fh:\n",
        "            magic, num_data = struct.unpack(\">II\", fh.read(8))\n",
        "            return np.array(array.array(\"B\", fh.read()), dtype=np.uint8)\n",
        "\n",
        "    def parse_images(filename):\n",
        "        with gzip.open(filename, 'rb') as fh:\n",
        "            magic, num_data, rows, cols = struct.unpack(\">IIII\", fh.read(16))\n",
        "            return np.array(array.array(\"B\", fh.read()), dtype=np.uint8).reshape(num_data, rows, cols)\n",
        "\n",
        "    for filename in ['train-images-idx3-ubyte.gz',\n",
        "                     'train-labels-idx1-ubyte.gz',\n",
        "                     't10k-images-idx3-ubyte.gz',\n",
        "                     't10k-labels-idx1-ubyte.gz']:\n",
        "        download(base_url + filename, filename)\n",
        "\n",
        "    train_images = parse_images('data/train-images-idx3-ubyte.gz')\n",
        "    train_labels = parse_labels('data/train-labels-idx1-ubyte.gz')\n",
        "    test_images = parse_images('data/t10k-images-idx3-ubyte.gz')\n",
        "    test_labels = parse_labels('data/t10k-labels-idx1-ubyte.gz')\n",
        "    # Remove the data point that cause log(0)\n",
        "    remove = (14926, 20348, 36487, 45128, 50945, 51163, 55023)\n",
        "    train_images = np.delete(train_images,remove, axis=0)\n",
        "    train_labels = np.delete(train_labels, remove, axis=0)\n",
        "    return train_images, train_labels, test_images[:1000], test_labels[:1000]\n",
        "\n",
        "\n",
        "def load_fashion_mnist():\n",
        "    partial_flatten = lambda x: np.reshape(x, (x.shape[0], np.prod(x.shape[1:])))\n",
        "    one_hot = lambda x, k: np.array(x[:, None] == np.arange(k)[None, :], dtype=int)\n",
        "    train_images, train_labels, test_images, test_labels =  fashion_mnist()\n",
        "    train_images = (partial_flatten(train_images) / 255.0 > .5).astype(float)\n",
        "    test_images = (partial_flatten(test_images) / 255.0 > .5).astype(float)\n",
        "    train_labels = one_hot(train_labels, 10)\n",
        "    test_labels = one_hot(test_labels, 10)\n",
        "    N_data = train_images.shape[0]\n",
        "\n",
        "    return N_data, train_images, train_labels, test_images, test_labels"
      ],
      "metadata": {
        "id": "k587bbiSvhB4"
      },
      "execution_count": null,
      "outputs": []
    },
    {
      "cell_type": "markdown",
      "source": [
        "## Q2.1\n",
        "[2pts] Derive the expression for the Maximum Likelihood Estimator (MLE) of $\\theta$ and $\\pi$."
      ],
      "metadata": {
        "id": "qgGhDuEBvuMI"
      }
    },
    {
      "cell_type": "markdown",
      "source": [
        "[Type up your derivation here]\n",
        "Your answer:\n",
        "\n",
        "We have the joint distribution of $p(x, c | \\theta, \\pi)$ due to the assumption of Naive Bayes Model. \\\\\n",
        "#### Taking the log-likelihood of the joint distribution, we get\n",
        "\\begin{align*}\n",
        "L(\\theta, \\pi) &= \\sum_{i=1}^{N}log(p(c|\\pi)) + \\sum_{i=1}^{N}\\sum_{j=1}^{D}(log(p(x_j|c, \\theta)) \\\\\n",
        "L(\\theta, \\pi) &= \\sum_{i=1}^{N}log(\\pi_{c}^i) + \\sum_{j=1}^{D}\\sum_{i=1}^{N}(x_j^ilog(\\theta_{jc} + (1 - x_j^i)log(1 - \\theta_{jc}))) \\\\\n",
        "\\end{align*}\n",
        "\n",
        "To find the Maximum Likelihood of parameters $\\theta$ and  $\\pi$, we take the derivative of the log-likelihood and set it to zero. We know that the first term $p(c|\\pi)$ follows a categorical distribution $p(c|\\pi) = \\pi_c$, and the second term $p(x_j|c, \\theta)$ follows a Bernoulli distribution $p(x_j|c, \\theta) = \\theta_{jc}^{x_j}(1 - \\theta_{jc})^{1 - x_j}$.\n",
        "\n",
        "We want the $argmax_{\\theta, \\pi} \\ log(L(\\theta, \\pi))$ subject to $∑_c \\pi_c = 1$\n",
        "\n",
        "#### Take the derivative wrt pi:\n",
        "\n",
        "Using the lagrange multiplier to derive $\\pi$\n",
        "\n",
        "\\begin{align*}\n",
        "&\\frac{∂ L(\\theta, \\pi)}{\\partial \\pi_c} + λ\\frac{\\partial ∑_c \\pi_c}{\\partial \\pi_c} = 0\\\\\n",
        "&λ = -\\sum_{i=1}^{N}\\frac{\\mathbb{1}(c^i=c)}{\\pi_c}\\\\\n",
        "&\\pi_c = -\\frac{\\sum_{n=1}^{N}\\mathbb{1}(c^i=c)}{\\lambda} \\\\\n",
        "\\end{align*}\n",
        "Applying constraint $∑_c \\pi_c = 1 ⇒ \\lambda = -N$\n",
        "\\begin{align*}\n",
        "\\hat{\\pi}_c = \\frac{\\sum_{i=1}^{N}\\mathbb{1}(c^i=c)}{N}\n",
        "\\end{align*}\n",
        "It can be expressed as the fraction of the number of class images in the dataset and the total number of images in the dataset.\n",
        "\n",
        "#### Take the derivative wrt theta :\n",
        "\\begin{align*}\n",
        "&\\sum_{i=1}^{N}\\mathbb{1}(c^i=c) \\Bigg( \\frac{x_j^i}{\\theta_{jc}} - \\frac{(1 - x_j^i)}{(1 - \\theta_{jc})}\\Bigg) = 0 \\\\\n",
        "\\\\\n",
        "&\\hat{\\theta}_{jc} = \\frac{\\sum_{i}\\mathbb{1}(x_j^i = 1 \\  \\& \\  c^i=c)}{\\sum_{i}\\mathbb{1}(c^i=c)} \\\\\n",
        "\\end{align*}\n",
        "It can be expressed as the fraction of the number of times the pixel values of the images in the particular class is 1 and the number of class images in the dataset. "
      ],
      "metadata": {
        "id": "cISpi3BUOdEp"
      }
    },
    {
      "cell_type": "markdown",
      "source": [
        "## Q2.2\n",
        "[4pts] Using the MLE for this data, many entries of $\\theta$ will be estimated to be 0, which seems extreme. So we look for another estimation method.\n",
        "\n",
        "Assume the prior distribution of $\\theta$ is such that the entries are i.i.d. and drawn from $\\operatorname{Beta}(2,2)$. Derive the Maximum A Posteriori (MAP) estimator for $\\theta$ (it has a simple final form). You can return the MLE for $\\pi$ in your implementation. From now on, we will work with this estimator."
      ],
      "metadata": {
        "id": "gTMSP01Sw-F5"
      }
    },
    {
      "cell_type": "markdown",
      "source": [
        "[Type up your derivation here]\n",
        "\n",
        "Your answer:\n",
        "\n",
        "The MLE solution does not include any priors and depends solely on the dataset, however, the MAP solution allows us to introduce priors in our estimation thus giving better estimates. We know that the prior distribution of $\\theta$ is such that the entries are i.i.d and drawn from Beta(2, 2).\n",
        "\\begin{align*}\n",
        "p(\\theta) = \\frac{1}{B(\\alpha, \\beta)}. \\theta^{\\alpha - 1}(1 - \\theta)^{\\beta - 1}\n",
        "\\end{align*}\n",
        "The MAP estimate can be defined as:\n",
        "\\begin{align*}\n",
        "\\hat{\\theta}_{MAP} &= argmax_\\theta(p(\\theta|x)) \\\\\n",
        "\\hat{\\theta}_{MAP} &= argmax_\\theta(p(x|\\theta)p(\\theta)) \\\\\n",
        "p(\\theta|x) &∝ p(x|\\theta)p(\\theta) \\\\\n",
        "p(\\theta|x) &∝ \\prod_i Bernoulli(x_i|c, \\theta) . Beta(\\theta|\\alpha, \\beta) \n",
        "\\end{align*}\n",
        "\n",
        "Taking the logarithm we get:\n",
        "\\begin{align*}\n",
        "L = \\sum_{i}(x_j^ilog(\\theta_{jc}) + (1 - x_j^i)log(1 - \\theta_{jc})) + log(Beta(\\theta|\\alpha, \\beta))\n",
        "\\end{align*}\n",
        "We find the argmax by taking the derivative of $L$ and setting to zero. For the first term we get:\n",
        "\\begin{align*}\n",
        "\\frac{\\partial}{\\partial \\theta}log(Bernoulli(x_j|\\theta)) = \\sum_i^N \\Bigg( \\frac{x_j^i}{\\theta_{jc}} - \\frac{1 - x_j^i}{1 - \\theta_{jc}} \\Bigg) \\\\  \n",
        "\\end{align*}\n",
        "For the second term:\n",
        "\\begin{align*}\n",
        "\\frac{\\partial}{\\partial \\theta}log(Beta(\\theta|\\alpha, \\beta)) &= \\frac{\\alpha - 1}{\\theta} - \\frac{\\beta - 1}{1 - \\theta}\n",
        "\\end{align*}\n",
        "To find the argmax, we set the derivative of $L$ to zero:\n",
        "\\begin{align*}\n",
        "0 &= \\sum_i^N \\Bigg( \\frac{x_j^i}{\\theta_{jc}} - \\frac{1 - x_j^i}{1 - \\theta_{jc}} \\Bigg) + \\frac{\\alpha - 1}{\\theta_{jc}} - \\frac{\\beta - 1}{1 - \\theta_{jc}} \\\\\n",
        "\\hat{\\theta}_{MAP} &= \\frac{n_b + \\alpha - 1}{n + \\alpha + \\beta - 2}\n",
        "\\end{align*}\n",
        "where $n_b = \\sum_i \\mathbb{1}[x_j^i \\  \\& \\  c^i = c]$, $n = \\sum_i\\mathbb{1}[c^i = c]$"
      ],
      "metadata": {
        "id": "uI3hcFf1Of82"
      }
    },
    {
      "cell_type": "code",
      "source": [
        "def train_map_estimator(train_images, train_labels):\n",
        "    \"\"\" Inputs: train_images (N_samples x N_features), train_labels (N_samples x N_classes)\n",
        "        Returns the MAP estimator theta_est (N_features x N_classes) and the MLE\n",
        "        estimator pi_est (N_classes)\"\"\"\n",
        "    \n",
        "    # YOU NEED TO WRITE THIS PART\n",
        "    num_images = len(train_images)\n",
        "    num_features = len(train_images[0])\n",
        "    num_classes = len(train_labels[0])\n",
        "    \n",
        "    # pi_est = N_c / N\n",
        "    # find how many times the class has occurred in the train_images\n",
        "    pi_est = []\n",
        "    \n",
        "    # keeps track of the indices of images belonging to which class\n",
        "    class_count = {label:0 for label in range(num_classes)}\n",
        "    \n",
        "    # theta_est = (N_p + alpha - 1) / (N + alpha + beta - 2) = (N_p + 1) / (N + 2). (# pixel j=1 appears in a class + 1) / (# of that class in dataset + 2)\n",
        "    theta_est = np.zeros((num_features, num_classes))\n",
        "    for label in range(num_classes):\n",
        "      class_count[label] = np.where(np.where(train_labels == 1)[1] == label)[0]\n",
        "      n_c = len(class_count[label])\n",
        "      pi_est.append(n_c / num_images)\n",
        "    \n",
        "      n_b = np.count_nonzero(train_images[class_count[label]] == 1, axis=0)\n",
        "      theta_est[:, label] = ((n_b + 1) / (len(class_count[label]) + 2))\n",
        "\n",
        "    return theta_est, pi_est"
      ],
      "metadata": {
        "id": "v49Abi0uxeII"
      },
      "execution_count": null,
      "outputs": []
    },
    {
      "cell_type": "markdown",
      "source": [
        "## Q2.3\n",
        "[5pts] Derive an expression for the class log-likelihood $\\log p(c|x,\\theta,\\pi)$ for a single image. Then, complete the implementation of the following functions. Recall that our prediction rule is to choose the class that maximizes the above log-likelihood, and accuracy is defined as the fraction of samples that are correctly predicted.\n",
        "\n",
        "Report the average log-likelihood $\\frac{1}{N}\\sum_{i=1}^{N}\\log p(c^{(i)}|x^{(i)},\\hat{\\theta},\\hat{\\pi})$ (where $N$ is the number of samples) on the training test, as well the training and test errors."
      ],
      "metadata": {
        "id": "7yO5yq0dyus4"
      }
    },
    {
      "cell_type": "markdown",
      "source": [
        "[Type up your derivation here]\n",
        "\n",
        "Your answer:\n",
        "\n",
        "Applying Bayes rule on $p(c|x, \\theta, \\pi)$\n",
        "\\begin{align*}\n",
        "p(c|x, \\theta, \\pi) &= \\frac{p(x, c | \\theta, \\pi)}{p(x|\\theta, \\pi)} \\\\\n",
        "&= \\frac{p(x, c | \\theta, \\pi)}{\\sum_cp(x|c, \\theta)p(c|\\pi)} \\\\\n",
        "\\end{align*}\n",
        "Class log likelihood for $log(p(c|x, \\theta, \\pi))$ for a single image is given by:\n",
        "\\begin{align*}\n",
        "log(p(c|x, \\theta, \\pi)) &= log(\\pi_c) + \\sum_{j=1}^D(x_j^ilog(\\theta_{jc}) + (1 - x_j^i)log(1 - \\theta_{jc})) - \\sum_c(log(\\pi_c) + \\sum_{j=1}^D(x_j^ilog(\\theta_{jc}) + (1 - x_j^i)log(1 - \\theta_{jc}))) \\\\\n",
        "\\end{align*}\n"
      ],
      "metadata": {
        "id": "36FW8dZpOhb7"
      }
    },
    {
      "cell_type": "code",
      "source": [
        "def log_likelihood(images, theta, pi):\n",
        "    \"\"\" Inputs: images (N_samples x N_features), theta, pi\n",
        "        Returns the matrix 'log_like' of loglikehoods over the input images where\n",
        "        log_like[i,c] = log p (c |x^(i), theta, pi) using the estimators theta and pi.\n",
        "        log_like is a matrix of (N_samples x N_classes)\n",
        "    Note that log likelihood is not only for c^(i), it is for all possible c's.\"\"\"\n",
        "\n",
        "    # YOU NEED TO WRITE THIS PART\n",
        "    num_samples = len(images)\n",
        "    num_features = len(images[0])\n",
        "    num_classes = len(pi)\n",
        "\n",
        "    # keeps track of the indices of images belonging to which class\n",
        "    class_count = {label:0 for label in range(num_classes)}\n",
        "\n",
        "    log_like = np.zeros((num_samples, num_classes))\n",
        "    for image in range(num_samples):\n",
        "      theta_sum = images[image] @ np.log(theta) + (1 - images[image]) @ np.log(1 - theta)\n",
        "      log_like[image] = np.log(pi) + theta_sum\n",
        "    \n",
        "    return log_like\n",
        "\n",
        "def accuracy(log_like, labels):\n",
        "    \"\"\" Inputs: matrix of log likelihoods and 1-of-K labels (N_samples x N_classes)\n",
        "    Returns the accuracy based on predictions from log likelihood values\"\"\"\n",
        "\n",
        "    # YOU NEED TO WRITE THIS PART\n",
        "    target_class = np.where(labels == 1)[1]\n",
        "    predicted_class = np.argmax(log_like, axis=1)\n",
        "    \n",
        "    acc = np.sum(np.equal(predicted_class, target_class)) / len(target_class)\n",
        "\n",
        "    return acc                                                                              \n",
        "\n",
        "N_data, train_images, train_labels, test_images, test_labels = load_fashion_mnist()\n",
        "theta_est, pi_est = train_map_estimator(train_images, train_labels)\n",
        "\n",
        "loglike_train = log_likelihood(train_images, theta_est, pi_est)\n",
        "avg_loglike = np.sum(loglike_train * train_labels) / N_data\n",
        "train_accuracy = accuracy(loglike_train, train_labels)\n",
        "loglike_test = log_likelihood(test_images, theta_est, pi_est)\n",
        "test_accuracy = accuracy(loglike_test, test_labels)\n",
        "\n",
        "print(f\"Average log-likelihood for MAP is {avg_loglike:.3f}\")\n",
        "print(f\"Training accuracy for MAP is {train_accuracy:.3f}\")\n",
        "print(f\"Test accuracy for MAP is {test_accuracy:.3f}\")"
      ],
      "metadata": {
        "id": "6RZwBnVh0Zoo",
        "colab": {
          "base_uri": "https://localhost:8080/"
        },
        "outputId": "c9e67384-14ca-4d31-8b27-a7f39067e633"
      },
      "execution_count": null,
      "outputs": [
        {
          "output_type": "stream",
          "name": "stdout",
          "text": [
            "Average log-likelihood for MAP is -285.334\n",
            "Training accuracy for MAP is 0.651\n",
            "Test accuracy for MAP is 0.638\n"
          ]
        }
      ]
    },
    {
      "cell_type": "markdown",
      "source": [
        "## Q2.4\n",
        "[2pts] Given this model's assumptions, is it always true that any two pixels $x_i$ and $x_j$ with $i \\neq j$ are indenepdent given $c$? How about after marginalizing over $c$? Explain your answer."
      ],
      "metadata": {
        "id": "qFJkXeMK2mwP"
      }
    },
    {
      "cell_type": "markdown",
      "source": [
        "[Type up your answer here]\n",
        "\n",
        "Your answer:\n",
        "\n",
        "![Untitled Diagram.drawio.png](data:image/png;base64,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)\n",
        "\n",
        "Through Bayes ball we can prove that the two pixels $x_i$ and $x_j$ with $i \\neq j$ are independent given c through common cause.\n",
        "\n",
        "After marginalizing over c, the joint distribution of $p(x_i, x_j, c)$ is given by:\n",
        "\\begin{align*}\n",
        "\\sum_cp(x_i, x_j, c) &= p(x_i, x_j) \\\\\n",
        "&= p(x_i|x_j)p(x_j)\\\\\n",
        "\\end{align*}\n",
        "As $p(x_i, x_j) \\neq p(x_i)p(x_j)$, the two pixels are dependant when marginalized over c.\n"
      ],
      "metadata": {
        "id": "ImntAmpWOjYe"
      }
    },
    {
      "cell_type": "markdown",
      "source": [
        "## Q2.5 \n",
        "[4pts] Since we have a generative model for our data, we can do more than just prediction. Randomly sample and plot 10 images from the learned distribution using the MAP estimates. (Hint: You first need to sample the class $c$, and then sample pixels conditioned on $c$.)"
      ],
      "metadata": {
        "id": "_P4Y1x_G28QD"
      }
    },
    {
      "cell_type": "code",
      "source": [
        "def image_sampler(theta, pi, num_images):\n",
        "    \"\"\" Inputs: parameters theta and pi, and number of images to sample\n",
        "    Returns the sampled images (N_images x N_features)\"\"\"\n",
        "\n",
        "    # YOU NEED TO WRITE THIS PART\n",
        "\n",
        "    # randomly sample the class c\n",
        "    np.random.seed(5)\n",
        "    random_class = []\n",
        "    for i in range(num_images):\n",
        "      one_hot = np.random.multinomial(1, pi)\n",
        "      random_class.append(np.argmax(one_hot))\n",
        "    \n",
        "    # sample pixel values given c from p(x |c, theta, pi)\n",
        "    X = [0, 1]\n",
        "    image = np.zeros((num_images, len(theta[:, 0])))\n",
        "    \n",
        "    image = []\n",
        "    for label in random_class:\n",
        "      feature = []\n",
        "      for i in range(len(theta[:, 0])):\n",
        "        p_x = []\n",
        "        for x in X:\n",
        "          # find what the pixel value sampled from the log-likelihood given the class and parameters\n",
        "          p = x * np.log(theta[i, label]) + (1 - x) * np.log(1 - theta[i, label])\n",
        "          p_x.append(p)\n",
        "        feature.append(np.argmax(p_x))\n",
        "      image.append(feature)\n",
        "    return np.array(image)\n",
        "\n",
        "def plot_images(images, ims_per_row=5, padding=5, image_dimensions=(28, 28),\n",
        "                cmap=matplotlib.cm.binary, vmin=0., vmax=1.):\n",
        "    \"\"\"Images should be a (N_images x pixels) matrix.\"\"\"\n",
        "    fig = plt.figure(1)\n",
        "    fig.clf()\n",
        "    ax = fig.add_subplot(111)\n",
        "\n",
        "    N_images = images.shape[0]\n",
        "    N_rows = np.int32(np.ceil(float(N_images) / ims_per_row))\n",
        "    pad_value = vmin\n",
        "    concat_images = np.full(((image_dimensions[0] + padding) * N_rows + padding,\n",
        "                             (image_dimensions[1] + padding) * ims_per_row + padding), pad_value)\n",
        "    for i in range(N_images):\n",
        "        cur_image = np.reshape(images[i, :], image_dimensions)\n",
        "        row_ix = i // ims_per_row\n",
        "        col_ix = i % ims_per_row\n",
        "        row_start = padding + (padding + image_dimensions[0]) * row_ix\n",
        "        col_start = padding + (padding + image_dimensions[1]) * col_ix\n",
        "        concat_images[row_start: row_start + image_dimensions[0],\n",
        "                      col_start: col_start + image_dimensions[1]] = cur_image\n",
        "        cax = ax.matshow(concat_images, cmap=cmap, vmin=vmin, vmax=vmax)\n",
        "        plt.xticks(np.array([]))\n",
        "        plt.yticks(np.array([]))\n",
        "    \n",
        "    plt.plot()\n",
        "\n",
        "\n",
        "sampled_images = image_sampler(theta_est, pi_est, 10)\n",
        "plot_images(sampled_images)"
      ],
      "metadata": {
        "id": "amV0qFMC3myy",
        "colab": {
          "base_uri": "https://localhost:8080/",
          "height": 178
        },
        "outputId": "d15af59e-77cd-4e4e-837a-115745b44579"
      },
      "execution_count": 54,
      "outputs": [
        {
          "output_type": "display_data",
          "data": {
            "text/plain": [
              "<Figure size 432x288 with 1 Axes>"
            ],
            "image/png": "[encoded data removed]"
          },
          "metadata": {}
        }
      ]
    },
    {
      "cell_type": "markdown",
      "source": [
        "## Q2.6\n",
        "[4pts] One of the advantages of generative models is that they can handle missing data, or be used to answer different sorts of questions about the model. Assume we have only observed some pixels of the image. Let $x_E = \\{x_p : \\text{pixel $p$ is observed}\\}$. Derive an expression for $p(x_j|x_E,\\theta,\\pi)$, the conditional probability of an unobserved pixel $j$ given the observed pixels and distribution parameters. (Hint: You have to marginalize over $c$.)"
      ],
      "metadata": {
        "id": "qCYQ6VVx5YI5"
      }
    },
    {
      "cell_type": "markdown",
      "source": [
        "[Type up your derivation here]\n",
        "\n",
        "Your answer:\n",
        "\n",
        "\\begin{align*}\n",
        "p(x_j | x_E, \\theta, \\pi) &= \\frac{\\sum_c p(x, c | \\theta, \\pi)}{p(x_E | \\theta, \\pi)} \\\\\n",
        "&= \\frac{\\sum_c p(x, c | \\theta, \\pi)}{\\sum_cp(x_E |c, \\theta)p(c | \\pi)} \\\\\n",
        "&= \\frac{\\sum_c p(c|\\pi)\\prod_{j=1}^{D}p(x_j|c, \\theta)p(x_E|c, \\theta)}{\\sum_cp(c|\\pi)p(x_E|c, \\theta)}\\\\\n",
        "\\end{align*}\n",
        "where $p(x|c, \\theta) = \\theta_{jc}^{x}(1 - \\theta_{jc})^{1 - x}$"
      ],
      "metadata": {
        "id": "GGT2yAtLOmJW"
      }
    },
    {
      "cell_type": "markdown",
      "source": [
        "## Q2.7\n",
        "[4pts] We assume that only 30% of the pixels are observed. For the first 20 images in the training set, plot the images when the unobserved pixels are left as white, as well as the same images when the unobserved pixels are filled with the marginal probability of the pixel being 1 given the observed pixels, i.e. the value of the unobserved pixel $j$ is $p(x_j = 1|x_E,\\theta,\\pi)$."
      ],
      "metadata": {
        "id": "5qGf4Rwx6ZPy"
      }
    },
    {
      "cell_type": "code",
      "source": [
        "def probabilistic_imputer(theta, pi, original_images, is_observed):\n",
        "    \"\"\"Inputs: parameters theta and pi, original_images (N_images x N_features), \n",
        "        and is_observed which has the same shape as original_images, with a value\n",
        "        1. in every observed entry and 0. in every unobserved entry.\n",
        "    Returns the new images where unobserved pixels are replaced by their \n",
        "    conditional probability\"\"\"\n",
        "    \n",
        "    # YOU NEED TO WRITE THIS PART\n",
        "    num_images = original_images.shape[0]\n",
        "    num_features = original_images.shape[1]\n",
        "    num_classes = theta.shape[1]\n",
        "    \n",
        "    # find the indices of x_E and x_j for the images\n",
        "    for i in range(num_images):\n",
        "      observed_inds = np.where(is_observed[i] == 1)[0]\n",
        "      unobserved_inds = np.where(is_observed[i] == 0)[0]\n",
        "      \n",
        "      numerator = 0\n",
        "      denominator = 0\n",
        "      for label in range(num_classes):\n",
        "        p_obs = 1\n",
        "        # find the p(x_E | theta, pi)\n",
        "        for obs_pixel in observed_inds:\n",
        "          p_obs = p_obs * (theta[obs_pixel, label]**original_images[i, obs_pixel] + (1 - theta[obs_pixel, label])**(1 - original_images[i, obs_pixel]))\n",
        "        \n",
        "        #find the p(x_j | theta, pi)\n",
        "        p_unobs = (theta[unobserved_inds, label])\n",
        "        \n",
        "        numerator += pi[label] * p_obs * p_unobs\n",
        "        denominator += pi[label] * p_obs\n",
        "\n",
        "        # replace the values of images with the prob(x_j=1 | x_E, theta, pi)\n",
        "        original_images[i, unobserved_inds] = numerator / denominator      \n",
        "\n",
        "    return original_images\n",
        "\n",
        "num_features = train_images.shape[1]\n",
        "is_observed = np.random.binomial(1, p=0.3, size=(20, num_features))\n",
        "plot_images(train_images[:20] * is_observed)"
      ],
      "metadata": {
        "id": "k8g40hvw6pE_",
        "colab": {
          "base_uri": "https://localhost:8080/",
          "height": 255
        },
        "outputId": "e194e1ac-db1c-43e6-a20d-a755ca1b79a8"
      },
      "execution_count": null,
      "outputs": [
        {
          "output_type": "display_data",
          "data": {
            "text/plain": [
              "<Figure size 432x288 with 1 Axes>"
            ],
            "image/png": "[encoded data removed]"
          },
          "metadata": {}
        }
      ]
    },
    {
      "cell_type": "code",
      "source": [
        "imputed_images = probabilistic_imputer(theta_est, pi_est, train_images[:20], is_observed)\n",
        "plot_images(imputed_images)"
      ],
      "metadata": {
        "id": "RtOM8Ba4uVQj",
        "colab": {
          "base_uri": "https://localhost:8080/",
          "height": 255
        },
        "outputId": "278b3a5c-446c-46b0-cd05-28a12f3e6587"
      },
      "execution_count": null,
      "outputs": [
        {
          "output_type": "display_data",
          "data": {
            "text/plain": [
              "<Figure size 432x288 with 1 Axes>"
            ],
            "image/png": "[encoded data removed]"
          },
          "metadata": {}
        }
      ]
    },
    {
      "cell_type": "code",
      "source": [],
      "metadata": {
        "id": "X-Q7fA9D7w3I"
      },
      "execution_count": null,
      "outputs": []
    }
  ]
}